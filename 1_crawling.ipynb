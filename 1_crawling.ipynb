{
 "cells": [
  {
   "cell_type": "code",
   "execution_count": 1,
   "id": "17472512",
   "metadata": {},
   "outputs": [],
   "source": [
    "# https://blog.javan.co.id/crawling-data-twitter-menggunakan-python-postman-cffbf14f962c\n",
    "\n",
    "import tweepy\n",
    "import csv\n",
    "\n",
    "access_token = '1342392531359682560-D7JBU2jigpySHc5W9o3jdCVK6jLMDo'\n",
    "access_token_secret = 'VOx7W6KTs7PrKk6afLuv9orOeaRs8ujIjVgutCNysDG9j'\n",
    "consumer_key = 'oxxQTv6HRJV9oRkYKmEVZ6c5f'\n",
    "consumer_secret = 'Trf22Tjqncw8j3l8FD1f02p44n0Pjqh2Fhbrv7XMwR5mpz3YT5'\n",
    "\n",
    "auth = tweepy.OAuthHandler(consumer_key,consumer_secret)\n",
    "api = tweepy.API(auth)\n",
    "\n",
    "# Open/create a file to append data to\n",
    "csvFile = open('tweet.csv', 'w', encoding='utf-8')\n",
    "\n",
    "#Use csv writer\n",
    "csvWriter = csv.writer(csvFile)\n",
    "for tweet in tweepy.Cursor(api.search_tweets, \n",
    "                           q='minyak goreng langka pemerintah -filter:retweets', \n",
    "                           tweet_mode='extended',\n",
    "                           lang=\"id\").items(5000):\n",
    "    text = tweet.full_text\n",
    "    user = tweet.user.name\n",
    "    created = tweet.created_at\n",
    "    csvWriter.writerow([created, text.encode('utf-8'), user])\n",
    "csvWriter = csv.writer(csvFile)\n",
    "csvFile.close()"
   ]
  },
  {
   "cell_type": "code",
   "execution_count": null,
   "id": "4cef7d2b",
   "metadata": {},
   "outputs": [],
   "source": []
  }
 ],
 "metadata": {
  "kernelspec": {
   "display_name": "Python 3 (ipykernel)",
   "language": "python",
   "name": "python3"
  },
  "language_info": {
   "codemirror_mode": {
    "name": "ipython",
    "version": 3
   },
   "file_extension": ".py",
   "mimetype": "text/x-python",
   "name": "python",
   "nbconvert_exporter": "python",
   "pygments_lexer": "ipython3",
   "version": "3.9.7"
  }
 },
 "nbformat": 4,
 "nbformat_minor": 5
}
