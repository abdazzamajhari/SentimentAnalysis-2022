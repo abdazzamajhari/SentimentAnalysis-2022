{
 "cells": [
  {
   "cell_type": "code",
   "execution_count": 1,
   "id": "39839f0f",
   "metadata": {},
   "outputs": [],
   "source": [
    "import pandas as pd"
   ]
  },
  {
   "cell_type": "code",
   "execution_count": 2,
   "id": "3dfc015d",
   "metadata": {},
   "outputs": [
    {
     "data": {
      "text/html": [
       "<div>\n",
       "<style scoped>\n",
       "    .dataframe tbody tr th:only-of-type {\n",
       "        vertical-align: middle;\n",
       "    }\n",
       "\n",
       "    .dataframe tbody tr th {\n",
       "        vertical-align: top;\n",
       "    }\n",
       "\n",
       "    .dataframe thead th {\n",
       "        text-align: right;\n",
       "    }\n",
       "</style>\n",
       "<table border=\"1\" class=\"dataframe\">\n",
       "  <thead>\n",
       "    <tr style=\"text-align: right;\">\n",
       "      <th></th>\n",
       "      <th>Unnamed: 0</th>\n",
       "      <th>tweet</th>\n",
       "      <th>kelas</th>\n",
       "    </tr>\n",
       "  </thead>\n",
       "  <tbody>\n",
       "    <tr>\n",
       "      <th>0</th>\n",
       "      <td>0</td>\n",
       "      <td>Lanjut ! Setuju ajukan hak angket soal minyak...</td>\n",
       "      <td>negatif</td>\n",
       "    </tr>\n",
       "    <tr>\n",
       "      <th>1</th>\n",
       "      <td>1</td>\n",
       "      <td>Kemarin waktu minyak goreng langka. saya dari ...</td>\n",
       "      <td>negatif</td>\n",
       "    </tr>\n",
       "    <tr>\n",
       "      <th>2</th>\n",
       "      <td>2</td>\n",
       "      <td>Puan Murka Harga Minyak Goreng Belum Normal Ib...</td>\n",
       "      <td>bot</td>\n",
       "    </tr>\n",
       "    <tr>\n",
       "      <th>3</th>\n",
       "      <td>3</td>\n",
       "      <td>Harga minyak goreng curah pada tingkat agen it...</td>\n",
       "      <td>normal</td>\n",
       "    </tr>\n",
       "    <tr>\n",
       "      <th>4</th>\n",
       "      <td>4</td>\n",
       "      <td>Menolak lupa!!!Dulu BBM naik, demo berjilid2.I...</td>\n",
       "      <td>negatif</td>\n",
       "    </tr>\n",
       "    <tr>\n",
       "      <th>...</th>\n",
       "      <td>...</td>\n",
       "      <td>...</td>\n",
       "      <td>...</td>\n",
       "    </tr>\n",
       "    <tr>\n",
       "      <th>490</th>\n",
       "      <td>516</td>\n",
       "      <td>Minyak Goreng Langka, HKTI Sulsel Minta Pemeri...</td>\n",
       "      <td>normal</td>\n",
       "    </tr>\n",
       "    <tr>\n",
       "      <th>491</th>\n",
       "      <td>517</td>\n",
       "      <td>1. Video viral antrean pembeli minyak goreng k...</td>\n",
       "      <td>normal</td>\n",
       "    </tr>\n",
       "    <tr>\n",
       "      <th>492</th>\n",
       "      <td>518</td>\n",
       "      <td>Baskoro Sy tambah Pak  Bilang minyak goreng la...</td>\n",
       "      <td>negatif</td>\n",
       "    </tr>\n",
       "    <tr>\n",
       "      <th>493</th>\n",
       "      <td>519</td>\n",
       "      <td>36 didu Rakyat cerdas akan paham bukan mencaci...</td>\n",
       "      <td>negatif</td>\n",
       "    </tr>\n",
       "    <tr>\n",
       "      <th>494</th>\n",
       "      <td>520</td>\n",
       "      <td>Pedagang Gorengan di Kendari Terancam Tutup Ka...</td>\n",
       "      <td>negatif</td>\n",
       "    </tr>\n",
       "  </tbody>\n",
       "</table>\n",
       "<p>495 rows × 3 columns</p>\n",
       "</div>"
      ],
      "text/plain": [
       "     Unnamed: 0                                              tweet    kelas\n",
       "0             0   Lanjut ! Setuju ajukan hak angket soal minyak...  negatif\n",
       "1             1  Kemarin waktu minyak goreng langka. saya dari ...  negatif\n",
       "2             2  Puan Murka Harga Minyak Goreng Belum Normal Ib...      bot\n",
       "3             3  Harga minyak goreng curah pada tingkat agen it...   normal\n",
       "4             4  Menolak lupa!!!Dulu BBM naik, demo berjilid2.I...  negatif\n",
       "..          ...                                                ...      ...\n",
       "490         516  Minyak Goreng Langka, HKTI Sulsel Minta Pemeri...   normal\n",
       "491         517  1. Video viral antrean pembeli minyak goreng k...   normal\n",
       "492         518  Baskoro Sy tambah Pak  Bilang minyak goreng la...  negatif\n",
       "493         519  36 didu Rakyat cerdas akan paham bukan mencaci...  negatif\n",
       "494         520  Pedagang Gorengan di Kendari Terancam Tutup Ka...  negatif\n",
       "\n",
       "[495 rows x 3 columns]"
      ]
     },
     "execution_count": 2,
     "metadata": {},
     "output_type": "execute_result"
    }
   ],
   "source": [
    "df = pd.read_csv(r\"tweet3.csv\")\n",
    "df"
   ]
  },
  {
   "cell_type": "code",
   "execution_count": 3,
   "id": "9d5b74b1",
   "metadata": {},
   "outputs": [
    {
     "data": {
      "text/html": [
       "<div>\n",
       "<style scoped>\n",
       "    .dataframe tbody tr th:only-of-type {\n",
       "        vertical-align: middle;\n",
       "    }\n",
       "\n",
       "    .dataframe tbody tr th {\n",
       "        vertical-align: top;\n",
       "    }\n",
       "\n",
       "    .dataframe thead th {\n",
       "        text-align: right;\n",
       "    }\n",
       "</style>\n",
       "<table border=\"1\" class=\"dataframe\">\n",
       "  <thead>\n",
       "    <tr style=\"text-align: right;\">\n",
       "      <th></th>\n",
       "      <th>tweet</th>\n",
       "      <th>kelas</th>\n",
       "    </tr>\n",
       "  </thead>\n",
       "  <tbody>\n",
       "    <tr>\n",
       "      <th>0</th>\n",
       "      <td>Lanjut ! Setuju ajukan hak angket soal minyak...</td>\n",
       "      <td>negatif</td>\n",
       "    </tr>\n",
       "    <tr>\n",
       "      <th>1</th>\n",
       "      <td>Kemarin waktu minyak goreng langka. saya dari ...</td>\n",
       "      <td>negatif</td>\n",
       "    </tr>\n",
       "    <tr>\n",
       "      <th>2</th>\n",
       "      <td>Puan Murka Harga Minyak Goreng Belum Normal Ib...</td>\n",
       "      <td>bot</td>\n",
       "    </tr>\n",
       "    <tr>\n",
       "      <th>3</th>\n",
       "      <td>Harga minyak goreng curah pada tingkat agen it...</td>\n",
       "      <td>normal</td>\n",
       "    </tr>\n",
       "    <tr>\n",
       "      <th>4</th>\n",
       "      <td>Menolak lupa!!!Dulu BBM naik, demo berjilid2.I...</td>\n",
       "      <td>negatif</td>\n",
       "    </tr>\n",
       "    <tr>\n",
       "      <th>...</th>\n",
       "      <td>...</td>\n",
       "      <td>...</td>\n",
       "    </tr>\n",
       "    <tr>\n",
       "      <th>490</th>\n",
       "      <td>Minyak Goreng Langka, HKTI Sulsel Minta Pemeri...</td>\n",
       "      <td>normal</td>\n",
       "    </tr>\n",
       "    <tr>\n",
       "      <th>491</th>\n",
       "      <td>1. Video viral antrean pembeli minyak goreng k...</td>\n",
       "      <td>normal</td>\n",
       "    </tr>\n",
       "    <tr>\n",
       "      <th>492</th>\n",
       "      <td>Baskoro Sy tambah Pak  Bilang minyak goreng la...</td>\n",
       "      <td>negatif</td>\n",
       "    </tr>\n",
       "    <tr>\n",
       "      <th>493</th>\n",
       "      <td>36 didu Rakyat cerdas akan paham bukan mencaci...</td>\n",
       "      <td>negatif</td>\n",
       "    </tr>\n",
       "    <tr>\n",
       "      <th>494</th>\n",
       "      <td>Pedagang Gorengan di Kendari Terancam Tutup Ka...</td>\n",
       "      <td>negatif</td>\n",
       "    </tr>\n",
       "  </tbody>\n",
       "</table>\n",
       "<p>495 rows × 2 columns</p>\n",
       "</div>"
      ],
      "text/plain": [
       "                                                 tweet    kelas\n",
       "0     Lanjut ! Setuju ajukan hak angket soal minyak...  negatif\n",
       "1    Kemarin waktu minyak goreng langka. saya dari ...  negatif\n",
       "2    Puan Murka Harga Minyak Goreng Belum Normal Ib...      bot\n",
       "3    Harga minyak goreng curah pada tingkat agen it...   normal\n",
       "4    Menolak lupa!!!Dulu BBM naik, demo berjilid2.I...  negatif\n",
       "..                                                 ...      ...\n",
       "490  Minyak Goreng Langka, HKTI Sulsel Minta Pemeri...   normal\n",
       "491  1. Video viral antrean pembeli minyak goreng k...   normal\n",
       "492  Baskoro Sy tambah Pak  Bilang minyak goreng la...  negatif\n",
       "493  36 didu Rakyat cerdas akan paham bukan mencaci...  negatif\n",
       "494  Pedagang Gorengan di Kendari Terancam Tutup Ka...  negatif\n",
       "\n",
       "[495 rows x 2 columns]"
      ]
     },
     "execution_count": 3,
     "metadata": {},
     "output_type": "execute_result"
    }
   ],
   "source": [
    "# Remove column name 'A'\n",
    "df = df.drop(['Unnamed: 0'], axis = 1)\n",
    "df"
   ]
  },
  {
   "cell_type": "code",
   "execution_count": 4,
   "id": "042a489d",
   "metadata": {},
   "outputs": [
    {
     "data": {
      "text/plain": [
       "(495, 2)"
      ]
     },
     "execution_count": 4,
     "metadata": {},
     "output_type": "execute_result"
    }
   ],
   "source": [
    "# lihat ukuran\n",
    "df.shape"
   ]
  },
  {
   "cell_type": "code",
   "execution_count": 5,
   "id": "90cb28c5",
   "metadata": {},
   "outputs": [
    {
     "data": {
      "text/plain": [
       "tweet    object\n",
       "kelas    object\n",
       "dtype: object"
      ]
     },
     "execution_count": 5,
     "metadata": {},
     "output_type": "execute_result"
    }
   ],
   "source": [
    "# melihat tipe data\n",
    "df.dtypes"
   ]
  },
  {
   "cell_type": "code",
   "execution_count": 6,
   "id": "e9da2b8c",
   "metadata": {},
   "outputs": [],
   "source": [
    "# mengubah ke dalam format String\n",
    "df['tweet'] = df['tweet'].astype(str)"
   ]
  },
  {
   "cell_type": "code",
   "execution_count": 7,
   "id": "3d2d3cd3",
   "metadata": {},
   "outputs": [],
   "source": [
    "# Split data menjadi data train dan test\n",
    "from sklearn.model_selection import train_test_split\n",
    "\n",
    "X_train, X_test, y_train, y_test = train_test_split(df['tweet'], df['kelas'], test_size=0.4)"
   ]
  },
  {
   "cell_type": "code",
   "execution_count": 8,
   "id": "ff5cf111",
   "metadata": {},
   "outputs": [
    {
     "data": {
      "text/plain": [
       "(198,)"
      ]
     },
     "execution_count": 8,
     "metadata": {},
     "output_type": "execute_result"
    }
   ],
   "source": [
    "# melihat bentuk data\n",
    "X_test.shape"
   ]
  },
  {
   "cell_type": "code",
   "execution_count": 9,
   "id": "391b28c5",
   "metadata": {},
   "outputs": [],
   "source": [
    "# Inisiasi vectorizer \n",
    "from sklearn.feature_extraction.text import CountVectorizer\n",
    "\n",
    "vect = CountVectorizer()"
   ]
  },
  {
   "cell_type": "code",
   "execution_count": 10,
   "id": "d8120cd5",
   "metadata": {},
   "outputs": [],
   "source": [
    "# Pelajari vocabulary dan ubah data train menjadi matriks\n",
    "vect.fit(X_train)\n",
    "\n",
    "X_train_vec = vect.transform(X_train)"
   ]
  },
  {
   "cell_type": "code",
   "execution_count": 11,
   "id": "1f12b72b",
   "metadata": {},
   "outputs": [
    {
     "data": {
      "text/plain": [
       "<297x2273 sparse matrix of type '<class 'numpy.int64'>'\n",
       "\twith 7239 stored elements in Compressed Sparse Row format>"
      ]
     },
     "execution_count": 11,
     "metadata": {},
     "output_type": "execute_result"
    }
   ],
   "source": [
    "# lihat vektor fitur\n",
    "X_train_vec"
   ]
  },
  {
   "cell_type": "code",
   "execution_count": 12,
   "id": "c9285ce7",
   "metadata": {},
   "outputs": [],
   "source": [
    "# lakukan hal yang sama dengan data testing\n",
    "X_test_vec = vect.transform(X_test)"
   ]
  },
  {
   "cell_type": "code",
   "execution_count": 13,
   "id": "6fb6fca1",
   "metadata": {},
   "outputs": [
    {
     "data": {
      "text/plain": [
       "<297x2273 sparse matrix of type '<class 'numpy.int64'>'\n",
       "\twith 7239 stored elements in Compressed Sparse Row format>"
      ]
     },
     "execution_count": 13,
     "metadata": {},
     "output_type": "execute_result"
    }
   ],
   "source": [
    "X_train_vec"
   ]
  },
  {
   "cell_type": "code",
   "execution_count": 60,
   "id": "12e179e7",
   "metadata": {},
   "outputs": [
    {
     "name": "stdout",
     "output_type": "stream",
     "text": [
      "842 µs ± 57.6 µs per loop (mean ± std. dev. of 7 runs, 1000 loops each)\n"
     ]
    }
   ],
   "source": [
    "# from sklearn.linear_model import LogisticRegression\n",
    "from sklearn.naive_bayes import MultinomialNB\n",
    "\n",
    "# train dengan melihat waktu eksekusi logistic regression\n",
    "# lr = LogisticRegression()\n",
    "# %timeit lr.fit(X_train_vec, y_train)\n",
    "\n",
    "# train dengan melihat waktu eksekusi multinomial naive bayes\n",
    "nb = MultinomialNB()\n",
    "%timeit nb.fit(X_train_vec, y_train)"
   ]
  },
  {
   "cell_type": "code",
   "execution_count": 61,
   "id": "bf5c4e30",
   "metadata": {},
   "outputs": [
    {
     "data": {
      "text/plain": [
       "array(['normal', 'normal', 'normal', 'negatif', 'normal', 'normal',\n",
       "       'negatif', 'negatif', 'negatif', 'normal', 'normal', 'negatif',\n",
       "       'normal', 'negatif', 'negatif', 'negatif', 'negatif', 'negatif',\n",
       "       'negatif', 'negatif', 'normal', 'negatif', 'normal', 'normal',\n",
       "       'negatif', 'negatif', 'negatif', 'normal', 'negatif', 'negatif',\n",
       "       'normal', 'negatif', 'negatif', 'negatif', 'normal', 'negatif',\n",
       "       'normal', 'normal', 'normal', 'normal', 'normal', 'negatif',\n",
       "       'normal', 'normal', 'negatif', 'negatif', 'normal', 'negatif',\n",
       "       'normal', 'negatif', 'normal', 'normal', 'negatif', 'negatif',\n",
       "       'negatif', 'normal', 'normal', 'negatif', 'negatif', 'normal',\n",
       "       'negatif', 'negatif', 'negatif', 'normal', 'negatif', 'negatif',\n",
       "       'negatif', 'negatif', 'normal', 'negatif', 'negatif', 'negatif',\n",
       "       'normal', 'negatif', 'negatif', 'negatif', 'normal', 'normal',\n",
       "       'negatif', 'normal', 'negatif', 'negatif', 'negatif', 'negatif',\n",
       "       'negatif', 'negatif', 'normal', 'negatif', 'normal', 'negatif',\n",
       "       'normal', 'normal', 'normal', 'negatif', 'normal', 'negatif',\n",
       "       'normal', 'normal', 'negatif', 'normal', 'normal', 'normal',\n",
       "       'normal', 'negatif', 'negatif', 'normal', 'negatif', 'normal',\n",
       "       'negatif', 'negatif', 'normal', 'negatif', 'negatif', 'bot',\n",
       "       'normal', 'normal', 'normal', 'negatif', 'negatif', 'negatif',\n",
       "       'normal', 'negatif', 'bot', 'negatif', 'normal', 'normal',\n",
       "       'negatif', 'negatif', 'normal', 'normal', 'negatif', 'negatif',\n",
       "       'negatif', 'normal', 'normal', 'normal', 'normal', 'normal',\n",
       "       'normal', 'negatif', 'normal', 'negatif', 'normal', 'normal',\n",
       "       'negatif', 'negatif', 'normal', 'negatif', 'negatif', 'normal',\n",
       "       'normal', 'negatif', 'negatif', 'negatif', 'normal', 'negatif',\n",
       "       'normal', 'negatif', 'negatif', 'normal', 'normal', 'normal',\n",
       "       'negatif', 'normal', 'negatif', 'normal', 'negatif', 'normal',\n",
       "       'negatif', 'negatif', 'negatif', 'negatif', 'negatif', 'normal',\n",
       "       'negatif', 'normal', 'negatif', 'normal', 'normal', 'normal',\n",
       "       'negatif', 'negatif', 'normal', 'negatif', 'negatif', 'normal',\n",
       "       'normal', 'negatif', 'normal', 'negatif', 'negatif', 'normal',\n",
       "       'negatif', 'negatif', 'normal', 'negatif', 'normal', 'negatif'],\n",
       "      dtype='<U7')"
      ]
     },
     "execution_count": 61,
     "metadata": {},
     "output_type": "execute_result"
    }
   ],
   "source": [
    "# buat prediksi\n",
    "# y_pred = lr.predict(X_test_vec)\n",
    "y_pred = nb.predict(X_test_vec)\n",
    "y_pred"
   ]
  },
  {
   "cell_type": "code",
   "execution_count": 62,
   "id": "603708ec",
   "metadata": {},
   "outputs": [
    {
     "name": "stdout",
     "output_type": "stream",
     "text": [
      "0.9528619528619529\n"
     ]
    }
   ],
   "source": [
    "# Use score method to get accuracy of model\n",
    "# score = lr.score(X_train_vec, y_train)\n",
    "score = nb.score(X_train_vec, y_train)\n",
    "print(score)"
   ]
  },
  {
   "cell_type": "code",
   "execution_count": 63,
   "id": "5701cf3d",
   "metadata": {},
   "outputs": [
    {
     "name": "stdout",
     "output_type": "stream",
     "text": [
      "0.6515151515151515\n"
     ]
    }
   ],
   "source": [
    "# Use score method to get accuracy of model\n",
    "# score = lr.score(X_test_vec, y_test)\n",
    "score = nb.score(X_test_vec, y_test)\n",
    "print(score)"
   ]
  },
  {
   "cell_type": "code",
   "execution_count": 64,
   "id": "bd7722f5",
   "metadata": {},
   "outputs": [
    {
     "name": "stdout",
     "output_type": "stream",
     "text": [
      "              precision    recall  f1-score   support\n",
      "\n",
      "         bot       0.50      0.07      0.12        15\n",
      "     negatif       0.56      0.80      0.66        75\n",
      "      normal       0.76      0.63      0.69       108\n",
      "\n",
      "    accuracy                           0.65       198\n",
      "   macro avg       0.61      0.50      0.49       198\n",
      "weighted avg       0.67      0.65      0.64       198\n",
      "\n"
     ]
    }
   ],
   "source": [
    "# tampilkan hasil evaluasi model\n",
    "from sklearn.metrics import classification_report\n",
    "\n",
    "print(classification_report(y_test, y_pred))"
   ]
  },
  {
   "cell_type": "code",
   "execution_count": 65,
   "id": "2e7f27c8",
   "metadata": {},
   "outputs": [],
   "source": [
    "# coba tes\n",
    "new_tes = [\"pemerintah bekerja tidak becus\", \n",
    "           \"pemerintah telah melakukan yang terbaik\", \n",
    "           \"pemerintah masa kalah sama mafia\"]"
   ]
  },
  {
   "cell_type": "code",
   "execution_count": 66,
   "id": "04d92c4d",
   "metadata": {},
   "outputs": [],
   "source": [
    "new_tes_vect = vect.transform(new_tes)"
   ]
  },
  {
   "cell_type": "code",
   "execution_count": 67,
   "id": "027f1350",
   "metadata": {},
   "outputs": [
    {
     "name": "stdout",
     "output_type": "stream",
     "text": [
      "['negatif' 'normal' 'negatif']\n"
     ]
    }
   ],
   "source": [
    "hasil = lr.predict(new_tes_vect)\n",
    "\n",
    "print(hasil)"
   ]
  },
  {
   "cell_type": "code",
   "execution_count": null,
   "id": "e9276940",
   "metadata": {},
   "outputs": [],
   "source": []
  },
  {
   "cell_type": "code",
   "execution_count": null,
   "id": "4332dce7",
   "metadata": {},
   "outputs": [],
   "source": []
  }
 ],
 "metadata": {
  "kernelspec": {
   "display_name": "Python 3 (ipykernel)",
   "language": "python",
   "name": "python3"
  },
  "language_info": {
   "codemirror_mode": {
    "name": "ipython",
    "version": 3
   },
   "file_extension": ".py",
   "mimetype": "text/x-python",
   "name": "python",
   "nbconvert_exporter": "python",
   "pygments_lexer": "ipython3",
   "version": "3.9.7"
  }
 },
 "nbformat": 4,
 "nbformat_minor": 5
}
